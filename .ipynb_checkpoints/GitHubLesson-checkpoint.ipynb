{
 "cells": [
  {
   "cell_type": "markdown",
   "id": "b5650618-5720-4d39-b0fc-fa4dc33686ed",
   "metadata": {},
   "source": [
    "# **GitHub Lesson**"
   ]
  },
  {
   "cell_type": "code",
   "execution_count": 7,
   "id": "097da1bc-a112-481d-990a-c3210a169bf9",
   "metadata": {},
   "outputs": [],
   "source": [
    "#Definir un programa que me permita adjuntar un archivo de forma dinámica y a través de un menú \n",
    "#poder ordenar columnas dado un parametro"
   ]
  },
  {
   "cell_type": "code",
   "execution_count": 9,
   "id": "d5e78a5b-1018-4294-abf2-d406574b2568",
   "metadata": {},
   "outputs": [
    {
     "name": "stdout",
     "output_type": "stream",
     "text": [
      "           ****VISTA PREVIA DEL ARCHIVO CARGADO****:\n",
      "       id  age          job  marital  education housing loan_alive\n",
      "0  106787   26       admin.   single  secondary     yes         no\n",
      "1  132205   72      retired  married  secondary      no         no\n",
      "2  117181   42  blue-collar  married    primary     yes         no\n",
      "3  130998   41   unemployed  married    primary      no         no\n",
      "4  130997   41     services  married    unknown     yes         no\n",
      "¿Que se desea hacer con los datos proporcionados?\n",
      "(1) Ordenar Tabla por Columna\n",
      "(2) Ordenar y Agrupar Columna\n",
      "(3) Filtrar Columna\n",
      "(4) Salir\n"
     ]
    },
    {
     "name": "stdin",
     "output_type": "stream",
     "text": [
      "Ingrese una opción del menú:  1\n"
     ]
    },
    {
     "name": "stdout",
     "output_type": "stream",
     "text": [
      "ESTAS SON LAS COLUMNAS DISPONIBLES:  ['id', 'age', 'job', 'marital', 'education', 'housing', 'loan_alive']\n"
     ]
    },
    {
     "name": "stdin",
     "output_type": "stream",
     "text": [
      "Ingrese el nombre de la columna que deseas filtrar:  AGE\n",
      "Ingrese el tipo de orden (ASC) O (DESC):  asc\n"
     ]
    },
    {
     "name": "stdout",
     "output_type": "stream",
     "text": [
      "           id  age      job   marital  education housing loan_alive\n",
      "28003  141253   18  student    single  secondary      no         no\n",
      "39912  142147   18  student    single  secondary      no         no\n",
      "7768   140737   18  student    single    primary      no         no\n",
      "27192  140888   18  student    single    primary      no         no\n",
      "17276  141223   18  student    single    unknown      no         no\n",
      "...       ...  ...      ...       ...        ...     ...        ...\n",
      "18927  144421   93  retired   married    unknown      no         no\n",
      "9753   144263   93  retired   married    unknown      no         no\n",
      "19278  131234   94  retired  divorced  secondary      no         no\n",
      "39514  133700   95  retired  divorced    primary      no         no\n",
      "37545  141664   95  retired   married  secondary      no         no\n",
      "\n",
      "[45211 rows x 7 columns]\n",
      "¿Que se desea hacer con los datos proporcionados?\n",
      "(1) Ordenar Tabla por Columna\n",
      "(2) Ordenar y Agrupar Columna\n",
      "(3) Filtrar Columna\n",
      "(4) Salir\n"
     ]
    },
    {
     "name": "stdin",
     "output_type": "stream",
     "text": [
      "Ingrese una opción del menú:  1\n"
     ]
    },
    {
     "name": "stdout",
     "output_type": "stream",
     "text": [
      "ESTAS SON LAS COLUMNAS DISPONIBLES:  ['id', 'age', 'job', 'marital', 'education', 'housing', 'loan_alive']\n"
     ]
    },
    {
     "name": "stdin",
     "output_type": "stream",
     "text": [
      "Ingrese el nombre de la columna que deseas filtrar:  MASDFASDF\n",
      "Ingrese el tipo de orden (ASC) O (DESC):  SDFSADF\n"
     ]
    },
    {
     "name": "stdout",
     "output_type": "stream",
     "text": [
      "El tipo de orden ingresado no existe\n",
      "¿Que se desea hacer con los datos proporcionados?\n",
      "(1) Ordenar Tabla por Columna\n",
      "(2) Ordenar y Agrupar Columna\n",
      "(3) Filtrar Columna\n",
      "(4) Salir\n"
     ]
    },
    {
     "name": "stdin",
     "output_type": "stream",
     "text": [
      "Ingrese una opción del menú:  1\n"
     ]
    },
    {
     "name": "stdout",
     "output_type": "stream",
     "text": [
      "ESTAS SON LAS COLUMNAS DISPONIBLES:  ['id', 'age', 'job', 'marital', 'education', 'housing', 'loan_alive']\n"
     ]
    },
    {
     "name": "stdin",
     "output_type": "stream",
     "text": [
      "Ingrese el nombre de la columna que deseas filtrar:  education\n",
      "Ingrese el tipo de orden (ASC) O (DESC):  desc\n"
     ]
    },
    {
     "name": "stdout",
     "output_type": "stream",
     "text": [
      "           id  age          job  marital education housing loan_alive\n",
      "1650   118168   37       admin.  married   unknown     yes         no\n",
      "14706  125709   35   technician   single   unknown     yes         no\n",
      "8794   111524   40      unknown  married   unknown      no         no\n",
      "41719  117565   42     services  married   unknown      no        yes\n",
      "23124  111902   45       admin.  married   unknown      no         no\n",
      "...       ...  ...          ...      ...       ...     ...        ...\n",
      "17239  100256   39  blue-collar  married   primary     yes         no\n",
      "20961  128283   44   management  married   primary     yes        yes\n",
      "39903  110599   60   management  married   primary      no         no\n",
      "17242  116665   45  blue-collar  married   primary     yes         no\n",
      "20418  141810   66    housemaid  married   primary      no         no\n",
      "\n",
      "[45211 rows x 7 columns]\n",
      "¿Que se desea hacer con los datos proporcionados?\n",
      "(1) Ordenar Tabla por Columna\n",
      "(2) Ordenar y Agrupar Columna\n",
      "(3) Filtrar Columna\n",
      "(4) Salir\n"
     ]
    },
    {
     "name": "stdin",
     "output_type": "stream",
     "text": [
      "Ingrese una opción del menú:  4\n"
     ]
    },
    {
     "name": "stdout",
     "output_type": "stream",
     "text": [
      "Hasta pronto!\n"
     ]
    }
   ],
   "source": [
    "import pandas as pd\n",
    "import os\n",
    "\n",
    "def readFile():\n",
    "    try:\n",
    "        file_path = input('Ingresa la ruta del archivo que vas a explorar')\n",
    "        file_extension = input('Ingresa la extensión del archivo')\n",
    "        file_name = input('Ingresa el nombre del archivo')\n",
    "        file_path = rf\"{file_path}\"\n",
    "        full_path = f\"{file_path}\\\\{file_name}.{file_extension}\"\n",
    "        \n",
    "        if not os.path.exists(full_path):\n",
    "            print(f\"Error: El archivo '{full_path}' no existe.\")\n",
    "            return\n",
    "\n",
    "        if(file_extension == 'csv'):\n",
    "            df = pd.read_csv(full_path)\n",
    "        elif(file_extension == 'xlsx'):\n",
    "            df = pd.read_excel(full_path)\n",
    "            \n",
    "        return df\n",
    "    except Exception as e:\n",
    "        print(f\"Hubo un error al intentar cargar el archivo: {e}\")\n",
    "\n",
    "def showMenu(df):\n",
    "        os.system('cls')\n",
    "        option = '0'\n",
    "        print(f\"           ****VISTA PREVIA DEL ARCHIVO CARGADO****:\\n{df.head()}\")\n",
    "        while option != '4':\n",
    "            print(\"¿Que se desea hacer con los datos proporcionados?\")\n",
    "            print(\"(1) Ordenar Tabla por Columna\")\n",
    "            print(\"(2) Ordenar y Agrupar Columna\")\n",
    "            print(\"(3) Filtrar Columna\")\n",
    "            print(\"(4) Salir\")\n",
    "            option = input('Ingrese una opción del menú: ')\n",
    "            if(option == '1'):\n",
    "                orderTableByColumn(df)\n",
    "            if(option == '2'):\n",
    "                orderAndGroupColumn(df)\n",
    "            if(option == '3'):\n",
    "                filterColumn(df)\n",
    "            if(option == '4'):\n",
    "                print(\"Hasta pronto!\")\n",
    "                return\n",
    "            if(option != '1' and option!='2' and option!='3' and option!=4):\n",
    "                os.system('cls')\n",
    "                print(\"La opción ingresada no corresponde a ninguna del menú\")\n",
    "\n",
    "def orderTableByColumn(df):\n",
    "    headers_list = df.columns.tolist()\n",
    "    print(\"ESTAS SON LAS COLUMNAS DISPONIBLES: \" , headers_list)\n",
    "    column_to_order = (input('Ingrese el nombre de la columna que deseas filtrar: ')).lower()\n",
    "    order_type = input('Ingrese el tipo de orden (ASC) O (DESC): ')\n",
    "    if(order_type.upper() != 'ASC' and order_type.upper()!= 'DESC'):\n",
    "        print(\"El tipo de orden ingresado no existe\")\n",
    "    else:\n",
    "        if(order_type.upper()=='ASC'):\n",
    "            table_sorted = df.sort_values(column_to_order, ascending=True)\n",
    "        elif(order_type.upper()=='DESC'):\n",
    "            table_sorted = df.sort_values(column_to_order, ascending=False)\n",
    "        print(table_sorted)\n",
    "\n",
    "def orderAndGroupColumn():\n",
    "    print(\"VOY A ORDERNAR Y AGRUPAR UNA COLUMNA\")\n",
    "    \n",
    "def filterColumn(df):\n",
    "    print(\"VOY A FILTRAR ALGUNA COLUMNA\")\n",
    "\n",
    "#df = readFile()\n",
    "showMenu(df)"
   ]
  },
  {
   "cell_type": "code",
   "execution_count": null,
   "id": "d00e8f31-d8a3-4aa9-9776-25b3d77af365",
   "metadata": {},
   "outputs": [],
   "source": []
  }
 ],
 "metadata": {
  "kernelspec": {
   "display_name": "Python 3 (ipykernel)",
   "language": "python",
   "name": "python3"
  },
  "language_info": {
   "codemirror_mode": {
    "name": "ipython",
    "version": 3
   },
   "file_extension": ".py",
   "mimetype": "text/x-python",
   "name": "python",
   "nbconvert_exporter": "python",
   "pygments_lexer": "ipython3",
   "version": "3.12.3"
  }
 },
 "nbformat": 4,
 "nbformat_minor": 5
}
